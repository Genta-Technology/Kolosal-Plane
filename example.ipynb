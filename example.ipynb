{
 "cells": [
  {
   "cell_type": "markdown",
   "id": "f09de181",
   "metadata": {},
   "source": [
    "# Kolosal Plane\n",
    "Dataset augmentation for LLM or Embedding Fine-tuning."
   ]
  },
  {
   "cell_type": "code",
   "execution_count": 1,
   "id": "b1903c5e",
   "metadata": {},
   "outputs": [
    {
     "data": {
      "text/plain": [
       "True"
      ]
     },
     "execution_count": 1,
     "metadata": {},
     "output_type": "execute_result"
    }
   ],
   "source": [
    "import os\n",
    "from dotenv import load_dotenv\n",
    "\n",
    "load_dotenv()"
   ]
  },
  {
   "cell_type": "markdown",
   "id": "58fd6aa1",
   "metadata": {},
   "source": [
    "## Augmentation Knowledge"
   ]
  },
  {
   "cell_type": "code",
   "execution_count": 2,
   "id": "52266c6c",
   "metadata": {},
   "outputs": [
    {
     "name": "stderr",
     "output_type": "stream",
     "text": [
      "C:\\Users\\Admin_X1C10\\AppData\\Local\\Temp\\ipykernel_14784\\82496007.py:2: DeprecationWarning: Importing from 'distilabel.llms' is deprecated and will be removed in a version 1.7.0. Import from 'distilabel.models' instead.\n",
      "  from distilabel.llms import AzureOpenAILLM, OpenAILLM\n",
      "d:\\Genta Technology\\Development\\Kolosal-Data-Augmentation\\venv\\lib\\site-packages\\tqdm\\auto.py:21: TqdmWarning: IProgress not found. Please update jupyter and ipywidgets. See https://ipywidgets.readthedocs.io/en/stable/user_install.html\n",
      "  from .autonotebook import tqdm as notebook_tqdm\n"
     ]
    }
   ],
   "source": [
    "# lets start by defining the LLM were going to use to augment the dataset\n",
    "from distilabel.llms import AzureOpenAILLM, OpenAILLM\n",
    "\n",
    "# For AzureOpenAI\n",
    "llm = AzureOpenAILLM(base_url=os.getenv(\"AZURE_OPENAI_ENDPOINT\"),\n",
    "                     api_key=os.getenv(\"AZURE_OPENAI_API_KEY\"),\n",
    "                     api_version=os.getenv(\"AZURE_API_VERSION\"),\n",
    "                     model=\"gpt-4o\",\n",
    "                     generation_kwargs={\n",
    "                         \"max_new_tokens\": 1024\n",
    "})\n",
    "\n",
    "# For OpenAI directly\n",
    "# llm = OpenAILLM(api_key=os.getenv(\"OPENAI_API_KEY\"),\n",
    "#                 model=\"gpt-4o\",\n",
    "#                 generation_kwargs={\n",
    "#                     \"max_new_tokens\": 1024\n",
    "# })\n",
    "\n",
    "# Refer to the documentation for more details on the LLM class and its parameters:\n",
    "# https://distilabel.argilla.io/latest/api/models/llm/llm_gallery/"
   ]
  },
  {
   "cell_type": "code",
   "execution_count": 3,
   "id": "8e1634e2",
   "metadata": {},
   "outputs": [
    {
     "data": {
      "text/html": [
       "<div>\n",
       "<style scoped>\n",
       "    .dataframe tbody tr th:only-of-type {\n",
       "        vertical-align: middle;\n",
       "    }\n",
       "\n",
       "    .dataframe tbody tr th {\n",
       "        vertical-align: top;\n",
       "    }\n",
       "\n",
       "    .dataframe thead th {\n",
       "        text-align: right;\n",
       "    }\n",
       "</style>\n",
       "<table border=\"1\" class=\"dataframe\">\n",
       "  <thead>\n",
       "    <tr style=\"text-align: right;\">\n",
       "      <th></th>\n",
       "      <th>Documents</th>\n",
       "    </tr>\n",
       "  </thead>\n",
       "  <tbody>\n",
       "    <tr>\n",
       "      <th>0</th>\n",
       "      <td>The Sun accounts for 99.86% of the mass in the...</td>\n",
       "    </tr>\n",
       "    <tr>\n",
       "      <th>1</th>\n",
       "      <td>A day on Venus is longer than its year.</td>\n",
       "    </tr>\n",
       "    <tr>\n",
       "      <th>2</th>\n",
       "      <td>Neutron stars can spin up to 700 times per sec...</td>\n",
       "    </tr>\n",
       "    <tr>\n",
       "      <th>3</th>\n",
       "      <td>The largest volcano in the Solar System is Oly...</td>\n",
       "    </tr>\n",
       "    <tr>\n",
       "      <th>4</th>\n",
       "      <td>Light from the Moon is actually reflected sunl...</td>\n",
       "    </tr>\n",
       "  </tbody>\n",
       "</table>\n",
       "</div>"
      ],
      "text/plain": [
       "                                           Documents\n",
       "0  The Sun accounts for 99.86% of the mass in the...\n",
       "1            A day on Venus is longer than its year.\n",
       "2  Neutron stars can spin up to 700 times per sec...\n",
       "3  The largest volcano in the Solar System is Oly...\n",
       "4  Light from the Moon is actually reflected sunl..."
      ]
     },
     "execution_count": 3,
     "metadata": {},
     "output_type": "execute_result"
    }
   ],
   "source": [
    "# Lets load the dataset we want to augment\n",
    "import pandas as pd\n",
    "\n",
    "dataset = pd.read_csv(\"example/documents.csv\")\n",
    "\n",
    "dataset.head()"
   ]
  },
  {
   "cell_type": "code",
   "execution_count": 5,
   "id": "63309be8",
   "metadata": {},
   "outputs": [],
   "source": [
    "# Lets define the instruction we want to give to the LLM\n",
    "conversation_starter_instruction = \"Act like an Ivy Leauge students that is passionate in astronomy, generate questions that would be asked to a professor based on the given topic.\"\n",
    "conversation_personalization_instruction = \"Answer the questions in a friendly manner, as if you are talking to a friend.\"\n",
    "system_prompt = \"You are an Ivy League professor, answer the questions in a friendly manner, as if you are teaching passionatly about astronomy\""
   ]
  },
  {
   "cell_type": "code",
   "execution_count": 6,
   "id": "4fd9fc8a",
   "metadata": {},
   "outputs": [],
   "source": [
    "# The augmentation knowledge pipeline can operate in either synchronous or asynchronous mode. For optimal performance, we recommend using the asynchronous mode.\n",
    "from kolosal_plane.augmentations.knowledge_simplified import AsyncSimpleKnowledge\n",
    "\n",
    "pipeline_async = AsyncSimpleKnowledge(conversation_starter_instruction=conversation_starter_instruction,\n",
    "                                       conversation_personalization_instruction=conversation_personalization_instruction,\n",
    "                                       system_prompt=system_prompt,\n",
    "                                       conversation_starter_count=3,\n",
    "                                       documents=dataset[\"Documents\"].tolist(),\n",
    "                                       max_conversations=3,\n",
    "                                       llm_model=llm)"
   ]
  },
  {
   "cell_type": "code",
   "execution_count": null,
   "id": "c7ec3155",
   "metadata": {},
   "outputs": [
    {
     "data": {
      "text/plain": [
       "<Task pending name='Task-1' coro=<AsyncSimpleKnowledge.augmentate_async() running at d:\\Genta Technology\\Development\\Kolosal-Data-Augmentation\\kolosal_plane\\augmentations\\knowledge_simplified.py:189>>"
      ]
     },
     "execution_count": 7,
     "metadata": {},
     "output_type": "execute_result"
    },
    {
     "name": "stderr",
     "output_type": "stream",
     "text": [
      "Step 'None' hasn't received a pipeline, and it hasn't been created within a `Pipeline` context. Please, use `with Pipeline() as pipeline:` and create the step within the context.\n",
      "Step 'None' hasn't received a pipeline, and it hasn't been created within a `Pipeline` context. Please, use `with Pipeline() as pipeline:` and create the step within the context.\n",
      "Step 'None' hasn't received a pipeline, and it hasn't been created within a `Pipeline` context. Please, use `with Pipeline() as pipeline:` and create the step within the context.\n",
      "Step 'None' hasn't received a pipeline, and it hasn't been created within a `Pipeline` context. Please, use `with Pipeline() as pipeline:` and create the step within the context.\n",
      "Step 'None' hasn't received a pipeline, and it hasn't been created within a `Pipeline` context. Please, use `with Pipeline() as pipeline:` and create the step within the context.\n",
      "Augmenting conversations:   0%|          | 0/3 [00:00<?, ?it/s]Step 'None' hasn't received a pipeline, and it hasn't been created within a `Pipeline` context. Please, use `with Pipeline() as pipeline:` and create the step within the context.\n",
      "Step 'None' hasn't received a pipeline, and it hasn't been created within a `Pipeline` context. Please, use `with Pipeline() as pipeline:` and create the step within the context.\n",
      "Augmenting conversations:  33%|███▎      | 1/3 [00:06<00:13,  6.73s/it]Step 'None' hasn't received a pipeline, and it hasn't been created within a `Pipeline` context. Please, use `with Pipeline() as pipeline:` and create the step within the context.\n",
      "Step 'None' hasn't received a pipeline, and it hasn't been created within a `Pipeline` context. Please, use `with Pipeline() as pipeline:` and create the step within the context.\n",
      "Augmenting conversations:  67%|██████▋   | 2/3 [00:15<00:07,  7.66s/it]Step 'None' hasn't received a pipeline, and it hasn't been created within a `Pipeline` context. Please, use `with Pipeline() as pipeline:` and create the step within the context.\n",
      "Augmenting conversations: 100%|██████████| 3/3 [00:22<00:00,  7.51s/it]\n"
     ]
    }
   ],
   "source": [
    "# To start the augmentation process, we can use the start_augmentation() function\n",
    "pipeline_async.start_augmentation()"
   ]
  },
  {
   "cell_type": "code",
   "execution_count": 8,
   "id": "c8783b60",
   "metadata": {},
   "outputs": [
    {
     "data": {
      "text/plain": [
       "('Running',\n",
       " {'llm_input_token_count': 11869,\n",
       "  'llm_output_token_count': 5659,\n",
       "  'tlm_input_token_count': 0,\n",
       "  'tlm_output_token_count': 0})"
      ]
     },
     "execution_count": 8,
     "metadata": {},
     "output_type": "execute_result"
    }
   ],
   "source": [
    "# To get the current status we can use the get_status() function\n",
    "pipeline_async.get_status()"
   ]
  },
  {
   "cell_type": "code",
   "execution_count": 9,
   "id": "f1334922",
   "metadata": {},
   "outputs": [
    {
     "data": {
      "text/plain": [
       "(shape: (45, 3)\n",
       " ┌────────────────────────────┬──────────────────────────────────┬──────────────────────────────────┐\n",
       " │ chat_history               ┆ document                         ┆ response                         │\n",
       " │ ---                        ┆ ---                              ┆ ---                              │\n",
       " │ list[struct[2]]            ┆ str                              ┆ str                              │\n",
       " ╞════════════════════════════╪══════════════════════════════════╪══════════════════════════════════╡\n",
       " │ [{\"system\",\"You are an Ivy ┆ The Sun accounts for 99.86% of…  ┆ Oh, that's a fantastic questio…  │\n",
       " │ Lea…                       ┆                                  ┆                                  │\n",
       " │ [{\"system\",\"You are an Ivy ┆ The Sun accounts for 99.86% of…  ┆ Oh, absolutely! Determining th…  │\n",
       " │ Lea…                       ┆                                  ┆                                  │\n",
       " │ [{\"system\",\"You are an Ivy ┆ The Sun accounts for 99.86% of…  ┆ Oh, that's such a fascinating …  │\n",
       " │ Lea…                       ┆                                  ┆                                  │\n",
       " │ [{\"system\",\"You are an Ivy ┆ A day on Venus is longer than …  ┆ Great question! The Sun truly …  │\n",
       " │ Lea…                       ┆                                  ┆                                  │\n",
       " │ [{\"system\",\"You are an Ivy ┆ A day on Venus is longer than …  ┆ Of course, I'd be delighted to…  │\n",
       " │ Lea…                       ┆                                  ┆                                  │\n",
       " │ …                          ┆ …                                ┆ …                                │\n",
       " │ [{\"system\",\"You are an Ivy ┆ The largest volcano in the Sol…  ┆ Oh, I'd love to chat about Oly…  │\n",
       " │ Lea…                       ┆                                  ┆                                  │\n",
       " │ [{\"system\",\"You are an Ivy ┆ The largest volcano in the Sol…  ┆ Oh, absolutely! The Sun's mass…  │\n",
       " │ Lea…                       ┆                                  ┆                                  │\n",
       " │ [{\"system\",\"You are an Ivy ┆ Light from the Moon is actuall…  ┆ Of course, let's chat about th…  │\n",
       " │ Lea…                       ┆                                  ┆                                  │\n",
       " │ [{\"system\",\"You are an Ivy ┆ Light from the Moon is actuall…  ┆ Oh, absolutely! It’s quite a t…  │\n",
       " │ Lea…                       ┆                                  ┆                                  │\n",
       " │ [{\"system\",\"You are an Ivy ┆ Light from the Moon is actuall…  ┆ Absolutely, I'd love to! Talki…  │\n",
       " │ Lea…                       ┆                                  ┆                                  │\n",
       " └────────────────────────────┴──────────────────────────────────┴──────────────────────────────────┘,\n",
       " {'llm_input_token_count': 48245,\n",
       "  'llm_output_token_count': 19268,\n",
       "  'tlm_input_token_count': 0,\n",
       "  'tlm_output_token_count': 0})"
      ]
     },
     "execution_count": 9,
     "metadata": {},
     "output_type": "execute_result"
    }
   ],
   "source": [
    "# To get the dataset result we can use the get_result() function\n",
    "pipeline_async.get_result()"
   ]
  },
  {
   "cell_type": "code",
   "execution_count": 23,
   "id": "5787ca7a",
   "metadata": {},
   "outputs": [
    {
     "data": {
      "text/html": [
       "<div><style>\n",
       ".dataframe > thead > tr,\n",
       ".dataframe > tbody > tr {\n",
       "  text-align: right;\n",
       "  white-space: pre-wrap;\n",
       "}\n",
       "</style>\n",
       "<small>shape: (45, 3)</small><table border=\"1\" class=\"dataframe\"><thead><tr><th>chat_history</th><th>document</th><th>response</th></tr><tr><td>list[struct[2]]</td><td>str</td><td>str</td></tr></thead><tbody><tr><td>[{&quot;system&quot;,&quot;You are an Ivy League professor, answer the questions in a friendly manner, as if you are teaching passionatly about astronomy&quot;}, {&quot;user&quot;,&quot;How does the Sun&#x27;s massive presence influence the orbital paths of planets in the Solar System?&quot;}]</td><td>&quot;The Sun accounts for 99.86% of…</td><td>&quot;Oh, that&#x27;s a fantastic questio…</td></tr><tr><td>[{&quot;system&quot;,&quot;You are an Ivy League professor, answer the questions in a friendly manner, as if you are teaching passionatly about astronomy&quot;}, {&quot;user&quot;,&quot;Could you explain the process by which the Sun&#x27;s mass was determined to be 99.86% of the total Solar System mass?&quot;}]</td><td>&quot;The Sun accounts for 99.86% of…</td><td>&quot;Oh, absolutely! Determining th…</td></tr><tr><td>[{&quot;system&quot;,&quot;You are an Ivy League professor, answer the questions in a friendly manner, as if you are teaching passionatly about astronomy&quot;}, {&quot;user&quot;,&quot;In what ways has the Sun&#x27;s dominant mass impacted the formation and evolution of other celestial bodies in our Solar System?&quot;}]</td><td>&quot;The Sun accounts for 99.86% of…</td><td>&quot;Oh, that&#x27;s such a fascinating …</td></tr><tr><td>[{&quot;system&quot;,&quot;You are an Ivy League professor, answer the questions in a friendly manner, as if you are teaching passionatly about astronomy&quot;}, {&quot;user&quot;,&quot;What factors contribute to the Sun&#x27;s dominance in the mass distribution of our Solar System?&quot;}]</td><td>&quot;A day on Venus is longer than …</td><td>&quot;Great question! The Sun truly …</td></tr><tr><td>[{&quot;system&quot;,&quot;You are an Ivy League professor, answer the questions in a friendly manner, as if you are teaching passionatly about astronomy&quot;}, {&quot;user&quot;,&quot;Can you elucidate the astronomical phenomena that cause a day on Venus to be longer than its year?&quot;}]</td><td>&quot;A day on Venus is longer than …</td><td>&quot;Of course, I&#x27;d be delighted to…</td></tr><tr><td>&hellip;</td><td>&hellip;</td><td>&hellip;</td></tr><tr><td>[{&quot;system&quot;,&quot;You are an Ivy League professor, answer the questions in a friendly manner, as if you are teaching passionatly about astronomy&quot;}, {&quot;user&quot;,&quot;What factors contribute to the exceptionally long day on Venus compared to its year?&quot;}, … {&quot;user&quot;,&quot;Explain how Olympus Mons on Mars compares to the largest volcanic structures on Earth in terms of size and formation processes.&quot;}]</td><td>&quot;The largest volcano in the Sol…</td><td>&quot;Oh, I&#x27;d love to chat about Oly…</td></tr><tr><td>[{&quot;system&quot;,&quot;You are an Ivy League professor, answer the questions in a friendly manner, as if you are teaching passionatly about astronomy&quot;}, {&quot;user&quot;,&quot;Describe the mechanisms that allow neutron stars to achieve such incredibly high rotational speeds.&quot;}, … {&quot;user&quot;,&quot;Can you explain how the immense mass of the Sun influences the orbits and behaviors of other objects within the Solar System?&quot;}]</td><td>&quot;The largest volcano in the Sol…</td><td>&quot;Oh, absolutely! The Sun&#x27;s mass…</td></tr><tr><td>[{&quot;system&quot;,&quot;You are an Ivy League professor, answer the questions in a friendly manner, as if you are teaching passionatly about astronomy&quot;}, {&quot;user&quot;,&quot;Could you explain the implications of the Sun comprising 99.86% of the mass in our Solar System?&quot;}, … {&quot;user&quot;,&quot;Can you illustrate the significance of the Great Red Spot on Jupiter and its impact on our understanding of planetary atmospheres?&quot;}]</td><td>&quot;Light from the Moon is actuall…</td><td>&quot;Of course, let&#x27;s chat about th…</td></tr><tr><td>[{&quot;system&quot;,&quot;You are an Ivy League professor, answer the questions in a friendly manner, as if you are teaching passionatly about astronomy&quot;}, {&quot;user&quot;,&quot;How does the length of a day on Venus affect our understanding of its atmospheric conditions?&quot;}, … {&quot;user&quot;,&quot;Given the unique length of a day on Venus, could you elaborate on how this affects the potential for creating a stable climate model for the planet?&quot;}]</td><td>&quot;Light from the Moon is actuall…</td><td>&quot;Oh, absolutely! It’s quite a t…</td></tr><tr><td>[{&quot;system&quot;,&quot;You are an Ivy League professor, answer the questions in a friendly manner, as if you are teaching passionatly about astronomy&quot;}, {&quot;user&quot;,&quot;Illuminate the significance of neutron stars spinning at up to 700 times per second.&quot;}, … {&quot;user&quot;,&quot;Can you delve into the geological processes that led to the formation of Olympus Mons on Mars?&quot;}]</td><td>&quot;Light from the Moon is actuall…</td><td>&quot;Absolutely, I&#x27;d love to! Talki…</td></tr></tbody></table></div>"
      ],
      "text/plain": [
       "shape: (45, 3)\n",
       "┌────────────────────────────┬──────────────────────────────────┬──────────────────────────────────┐\n",
       "│ chat_history               ┆ document                         ┆ response                         │\n",
       "│ ---                        ┆ ---                              ┆ ---                              │\n",
       "│ list[struct[2]]            ┆ str                              ┆ str                              │\n",
       "╞════════════════════════════╪══════════════════════════════════╪══════════════════════════════════╡\n",
       "│ [{\"system\",\"You are an Ivy ┆ The Sun accounts for 99.86% of…  ┆ Oh, that's a fantastic questio…  │\n",
       "│ Lea…                       ┆                                  ┆                                  │\n",
       "│ [{\"system\",\"You are an Ivy ┆ The Sun accounts for 99.86% of…  ┆ Oh, absolutely! Determining th…  │\n",
       "│ Lea…                       ┆                                  ┆                                  │\n",
       "│ [{\"system\",\"You are an Ivy ┆ The Sun accounts for 99.86% of…  ┆ Oh, that's such a fascinating …  │\n",
       "│ Lea…                       ┆                                  ┆                                  │\n",
       "│ [{\"system\",\"You are an Ivy ┆ A day on Venus is longer than …  ┆ Great question! The Sun truly …  │\n",
       "│ Lea…                       ┆                                  ┆                                  │\n",
       "│ [{\"system\",\"You are an Ivy ┆ A day on Venus is longer than …  ┆ Of course, I'd be delighted to…  │\n",
       "│ Lea…                       ┆                                  ┆                                  │\n",
       "│ …                          ┆ …                                ┆ …                                │\n",
       "│ [{\"system\",\"You are an Ivy ┆ The largest volcano in the Sol…  ┆ Oh, I'd love to chat about Oly…  │\n",
       "│ Lea…                       ┆                                  ┆                                  │\n",
       "│ [{\"system\",\"You are an Ivy ┆ The largest volcano in the Sol…  ┆ Oh, absolutely! The Sun's mass…  │\n",
       "│ Lea…                       ┆                                  ┆                                  │\n",
       "│ [{\"system\",\"You are an Ivy ┆ Light from the Moon is actuall…  ┆ Of course, let's chat about th…  │\n",
       "│ Lea…                       ┆                                  ┆                                  │\n",
       "│ [{\"system\",\"You are an Ivy ┆ Light from the Moon is actuall…  ┆ Oh, absolutely! It’s quite a t…  │\n",
       "│ Lea…                       ┆                                  ┆                                  │\n",
       "│ [{\"system\",\"You are an Ivy ┆ Light from the Moon is actuall…  ┆ Absolutely, I'd love to! Talki…  │\n",
       "│ Lea…                       ┆                                  ┆                                  │\n",
       "└────────────────────────────┴──────────────────────────────────┴──────────────────────────────────┘"
      ]
     },
     "execution_count": 23,
     "metadata": {},
     "output_type": "execute_result"
    }
   ],
   "source": [
    "# The augmented dataset is in a form of polars\n",
    "augmented_dataset, metadata = pipeline_async.get_result()\n",
    "augmented_dataset"
   ]
  },
  {
   "cell_type": "code",
   "execution_count": null,
   "id": "78a0a250",
   "metadata": {},
   "outputs": [],
   "source": [
    "# We can save the dataset to a JSON file, which could be further used for training a model\n",
    "augmented_dataset.write_json(\"example/augmented_dataset.json\")"
   ]
  },
  {
   "cell_type": "markdown",
   "id": "90d8f7a4",
   "metadata": {},
   "source": [
    "## Augmentation Embedding"
   ]
  },
  {
   "cell_type": "code",
   "execution_count": 4,
   "id": "6165b6de",
   "metadata": {},
   "outputs": [],
   "source": [
    "# Lets define the instruction we want for the augmentation and use the same documents as the base knowledge\n",
    "instruction = \"Create potential user questions that could be asked to a chatbot based on the content of the following document.\"\n"
   ]
  },
  {
   "cell_type": "code",
   "execution_count": 5,
   "id": "1f956392",
   "metadata": {},
   "outputs": [],
   "source": [
    "# Similar to the augmentation knowledge, there is a non-async and async version of the pipeline, async is recommended for performance\n",
    "from kolosal_plane.augmentations.embeddings import AsyncEmbeddingAugmentation\n",
    "\n",
    "pipeline_async = AsyncEmbeddingAugmentation(documents=dataset[\"Documents\"].tolist(),\n",
    "                                            instruction=instruction,\n",
    "                                            lm=llm,\n",
    "                                            question_per_document=100,\n",
    "                                            batch_size=10)"
   ]
  },
  {
   "cell_type": "code",
   "execution_count": null,
   "id": "d832a6e6",
   "metadata": {},
   "outputs": [
    {
     "data": {
      "text/plain": [
       "<Task pending name='Task-1' coro=<AsyncEmbeddingAugmentation.augmentate_async() running at d:\\Genta Technology\\Development\\Kolosal-Data-Augmentation\\kolosal_plane\\augmentations\\embeddings.py:94>>"
      ]
     },
     "execution_count": 6,
     "metadata": {},
     "output_type": "execute_result"
    },
    {
     "name": "stderr",
     "output_type": "stream",
     "text": [
      "Step 'None' hasn't received a pipeline, and it hasn't been created within a `Pipeline` context. Please, use `with Pipeline() as pipeline:` and create the step within the context.\n",
      "Augmenting documents: 100%|██████████| 5/5 [00:11<00:00,  2.34s/it]\n"
     ]
    }
   ],
   "source": [
    "# To start the augmentation process, we can use the start_augmentation() function\n",
    "pipeline_async.start_augmentation()"
   ]
  },
  {
   "cell_type": "code",
   "execution_count": 8,
   "id": "d87067a6",
   "metadata": {},
   "outputs": [
    {
     "data": {
      "text/plain": [
       "('Running', {'input_token_count': 1920, 'output_token_count': 1633})"
      ]
     },
     "execution_count": 8,
     "metadata": {},
     "output_type": "execute_result"
    }
   ],
   "source": [
    "# To get the current status we can use the get_status() function\n",
    "pipeline_async.get_status()"
   ]
  },
  {
   "cell_type": "code",
   "execution_count": 13,
   "id": "b7b87938",
   "metadata": {},
   "outputs": [
    {
     "data": {
      "text/plain": [
       "(shape: (500, 2)\n",
       " ┌─────────────────────────────────┬─────────────────────────────────┐\n",
       " │ question                        ┆ document                        │\n",
       " │ ---                             ┆ ---                             │\n",
       " │ str                             ┆ str                             │\n",
       " ╞═════════════════════════════════╪═════════════════════════════════╡\n",
       " │ Explain how the Sun's mass inf… ┆ The Sun accounts for 99.86% of… │\n",
       " │ What would happen to the Solar… ┆ The Sun accounts for 99.86% of… │\n",
       " │ Describe the process by which … ┆ The Sun accounts for 99.86% of… │\n",
       " │ How does the Sun's mass compar… ┆ The Sun accounts for 99.86% of… │\n",
       " │ Why is the Sun's mass crucial … ┆ The Sun accounts for 99.86% of… │\n",
       " │ …                               ┆ …                               │\n",
       " │ Illustrate how sunlight travel… ┆ Light from the Moon is actuall… │\n",
       " │ Is the reflected sunlight from… ┆ Light from the Moon is actuall… │\n",
       " │ Analyze the differences betwee… ┆ Light from the Moon is actuall… │\n",
       " │ Discuss the impact of the Moon… ┆ Light from the Moon is actuall… │\n",
       " │ Can the reflected sunlight fro… ┆ Light from the Moon is actuall… │\n",
       " └─────────────────────────────────┴─────────────────────────────────┘,\n",
       " {'input_token_count': 9370, 'output_token_count': 7009})"
      ]
     },
     "execution_count": 13,
     "metadata": {},
     "output_type": "execute_result"
    }
   ],
   "source": [
    "# To get the dataset result we can use the get_result() function\n",
    "pipeline_async.get_result()"
   ]
  },
  {
   "cell_type": "code",
   "execution_count": 14,
   "id": "7296efee",
   "metadata": {},
   "outputs": [
    {
     "data": {
      "text/html": [
       "<div><style>\n",
       ".dataframe > thead > tr,\n",
       ".dataframe > tbody > tr {\n",
       "  text-align: right;\n",
       "  white-space: pre-wrap;\n",
       "}\n",
       "</style>\n",
       "<small>shape: (500, 2)</small><table border=\"1\" class=\"dataframe\"><thead><tr><th>question</th><th>document</th></tr><tr><td>str</td><td>str</td></tr></thead><tbody><tr><td>&quot;Explain how the Sun&#x27;s mass inf…</td><td>&quot;The Sun accounts for 99.86% of…</td></tr><tr><td>&quot;What would happen to the Solar…</td><td>&quot;The Sun accounts for 99.86% of…</td></tr><tr><td>&quot;Describe the process by which …</td><td>&quot;The Sun accounts for 99.86% of…</td></tr><tr><td>&quot;How does the Sun&#x27;s mass compar…</td><td>&quot;The Sun accounts for 99.86% of…</td></tr><tr><td>&quot;Why is the Sun&#x27;s mass crucial …</td><td>&quot;The Sun accounts for 99.86% of…</td></tr><tr><td>&hellip;</td><td>&hellip;</td></tr><tr><td>&quot;Illustrate how sunlight travel…</td><td>&quot;Light from the Moon is actuall…</td></tr><tr><td>&quot;Is the reflected sunlight from…</td><td>&quot;Light from the Moon is actuall…</td></tr><tr><td>&quot;Analyze the differences betwee…</td><td>&quot;Light from the Moon is actuall…</td></tr><tr><td>&quot;Discuss the impact of the Moon…</td><td>&quot;Light from the Moon is actuall…</td></tr><tr><td>&quot;Can the reflected sunlight fro…</td><td>&quot;Light from the Moon is actuall…</td></tr></tbody></table></div>"
      ],
      "text/plain": [
       "shape: (500, 2)\n",
       "┌─────────────────────────────────┬─────────────────────────────────┐\n",
       "│ question                        ┆ document                        │\n",
       "│ ---                             ┆ ---                             │\n",
       "│ str                             ┆ str                             │\n",
       "╞═════════════════════════════════╪═════════════════════════════════╡\n",
       "│ Explain how the Sun's mass inf… ┆ The Sun accounts for 99.86% of… │\n",
       "│ What would happen to the Solar… ┆ The Sun accounts for 99.86% of… │\n",
       "│ Describe the process by which … ┆ The Sun accounts for 99.86% of… │\n",
       "│ How does the Sun's mass compar… ┆ The Sun accounts for 99.86% of… │\n",
       "│ Why is the Sun's mass crucial … ┆ The Sun accounts for 99.86% of… │\n",
       "│ …                               ┆ …                               │\n",
       "│ Illustrate how sunlight travel… ┆ Light from the Moon is actuall… │\n",
       "│ Is the reflected sunlight from… ┆ Light from the Moon is actuall… │\n",
       "│ Analyze the differences betwee… ┆ Light from the Moon is actuall… │\n",
       "│ Discuss the impact of the Moon… ┆ Light from the Moon is actuall… │\n",
       "│ Can the reflected sunlight fro… ┆ Light from the Moon is actuall… │\n",
       "└─────────────────────────────────┴─────────────────────────────────┘"
      ]
     },
     "execution_count": 14,
     "metadata": {},
     "output_type": "execute_result"
    }
   ],
   "source": [
    "# The augmented dataset is in a form of polars\n",
    "augmented_dataset, metadata = pipeline_async.get_result()\n",
    "augmented_dataset"
   ]
  },
  {
   "cell_type": "code",
   "execution_count": 15,
   "id": "d1eda558",
   "metadata": {},
   "outputs": [],
   "source": [
    "# We can save the dataset to a JSON file, which could be further used for training a model\n",
    "augmented_dataset.write_json(\"example/augmented_dataset.json\")"
   ]
  }
 ],
 "metadata": {
  "kernelspec": {
   "display_name": "venv",
   "language": "python",
   "name": "python3"
  },
  "language_info": {
   "codemirror_mode": {
    "name": "ipython",
    "version": 3
   },
   "file_extension": ".py",
   "mimetype": "text/x-python",
   "name": "python",
   "nbconvert_exporter": "python",
   "pygments_lexer": "ipython3",
   "version": "3.10.11"
  }
 },
 "nbformat": 4,
 "nbformat_minor": 5
}
